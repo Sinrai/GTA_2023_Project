{
 "cells": [
  {
   "cell_type": "markdown",
   "metadata": {},
   "source": [
    "### GTA Lab 3: Python and PostgreSQL - Solution"
   ]
  },
  {
   "cell_type": "code",
   "execution_count": null,
   "metadata": {},
   "outputs": [],
   "source": [
    "import fiona\n",
    "from shapely.geometry import LineString\n",
    "from shapely.geometry import Point\n",
    "import psycopg2\n",
    "from psycopg2.extensions import AsIs\n",
    "import pandas as pd\n",
    "import json\n",
    "import numpy as np"
   ]
  },
  {
   "cell_type": "code",
   "execution_count": null,
   "metadata": {},
   "outputs": [],
   "source": [
    "with open('2G.json', 'r') as json_file:\n",
    "    data = json.load(json_file)\n",
    "print(len(data[\"features\"]))\n",
    "print(data[\"features\"])\n",
    "#Hier habe ich herausgefunden, dass json wie Dictionary funktioniert, also es gibt insgesamt 4 Attribute, in dem Attribut geometry ist dann die gewünschte Information enthalten, \n",
    "#man kann auf geometry wie bei Dict index aufrufen, dann werden alle Antennelocations angezeigt, die enthalten sind in dem File, dann kann man mit dem zweiten Index auf einzelne \n",
    "#Antenne zugreifen, dann greift man mit dem dritten Index auf die geometrie zu, dann mit dem vierten auf Koordinaten\n",
    "print(data[\"features\"][0][\"geometry\"][\"coordinates\"])\n",
    "print(data)\n",
    "#Übrigens hat es ingesamt 174 Antennen bei 2G\n",
    "print(data[\"features\"][1][\"properties\"][\"powercode_de\"])\n",
    "#hier ist die radiated power von jeder Antenne(properties und powercode_de)\n",
    "#es ist echt komisch, am Anfang hat es 4 Keynamen, erst nachdem ich features aufgerufen habe, kann ich iterieren über die 174 Antennen. \n"
   ]
  },
  {
   "cell_type": "code",
   "execution_count": null,
   "metadata": {},
   "outputs": [],
   "source": []
  },
  {
   "cell_type": "code",
   "execution_count": null,
   "metadata": {},
   "outputs": [],
   "source": [
    "#Connecting with the database:\n",
    "import numpy as np\n",
    "\n",
    "db_gta = {\"dbname\": \"gta\",\n",
    "          \"port\": \"5432\",\n",
    "          \"user\": \"gta_p4\",\n",
    "          \"password\": \"***REMOVED***\",\n",
    "          \"host\": \"ikgpgis.ethz.ch\"}\n",
    "conn = psycopg2.connect(**db_gta)\n",
    "cur=conn.cursor()\n",
    "\n",
    "for i in range(len(data[\"features\"])):\n",
    "    coordinate=Point(np.array(data[\"features\"])[i][\"geometry\"][\"coordinates\"][0],np.array(data[\"features\"])[i][\"geometry\"][\"coordinates\"][1])\n",
    "    #print(coordinate.x)\n",
    "    #print(coordinate.y)\n",
    "    power=data[\"features\"][i][\"properties\"][\"powercode_de\"]\n",
    "    type=2\n",
    "\n",
    "    cur.execute(f\"INSERT INTO gta_p4.antenna_locations (radiated_power,geom,type) VALUES('{power}','{coordinate}','{type}');\")\n",
    "    \n",
    "\n",
    "conn.commit()\n",
    "conn.close()"
   ]
  },
  {
   "cell_type": "code",
   "execution_count": null,
   "metadata": {},
   "outputs": [],
   "source": [
    "#3D\n",
    "with open('3G.json', 'r') as json_file:\n",
    "    data3 = json.load(json_file)\n",
    "print(len(data3[\"features\"]))\n",
    "print(data3[\"features\"])\n",
    "print(data3[\"features\"][0][\"properties\"][\"powercode_de\"])\n",
    "\n",
    "frage=bool(len(data)==len(data3))\n",
    "frage=bool(data==data3)\n",
    "print(frage)"
   ]
  },
  {
   "cell_type": "code",
   "execution_count": null,
   "metadata": {},
   "outputs": [],
   "source": [
    "#4G\n",
    "with open('4G.json', 'r') as json_file:\n",
    "    data4 = json.load(json_file)\n",
    "print(data4[\"features\"])\n",
    "print(data4[\"features\"][0][\"properties\"][\"powercode_de\"])"
   ]
  },
  {
   "cell_type": "code",
   "execution_count": null,
   "metadata": {},
   "outputs": [],
   "source": [
    "with open('5G.json', 'r') as json_file:\n",
    "    data5 = json.load(json_file)\n",
    "print(data5[\"features\"])\n",
    "print(data5[\"features\"][2][\"properties\"][\"powercode_de\"])"
   ]
  },
  {
   "cell_type": "code",
   "execution_count": null,
   "metadata": {},
   "outputs": [],
   "source": [
    "db_gta = {\"dbname\": \"gta\",\n",
    "          \"port\": \"5432\",\n",
    "          \"user\": \"gta_p4\",\n",
    "          \"password\": \"***REMOVED***\",\n",
    "          \"host\": \"ikgpgis.ethz.ch\"}\n",
    "conn = psycopg2.connect(**db_gta)\n",
    "cur=conn.cursor()\n",
    "\n",
    "for i in range(len(data3[\"features\"])):\n",
    "    coordinate=Point(np.array(data3[\"features\"])[i][\"geometry\"][\"coordinates\"][0],np.array(data3[\"features\"])[i][\"geometry\"][\"coordinates\"][1])\n",
    "    power=data3[\"features\"][i][\"properties\"][\"powercode_de\"]\n",
    "    type=3\n",
    "\n",
    "    cur.execute(f\"INSERT INTO antenna_locations (radiated_power,geom,type) VALUES('{power}','{coordinate}','{type}');\")\n",
    "    \n",
    "for i in range(len(data4[\"features\"])):\n",
    "    coordinate=Point(np.array(data4[\"features\"])[i][\"geometry\"][\"coordinates\"][0],np.array(data4[\"features\"])[i][\"geometry\"][\"coordinates\"][1])\n",
    "    power=data4[\"features\"][i][\"properties\"][\"powercode_de\"]\n",
    "    type=4\n",
    "    cur.execute(f\"INSERT INTO antenna_locations (radiated_power,geom,type) VALUES('{power}','{coordinate}','{type}');\")\n",
    "    \n",
    "for i in range(len(data5[\"features\"])):\n",
    "    coordinate=Point(np.array(data5[\"features\"])[i][\"geometry\"][\"coordinates\"][0],np.array(data5[\"features\"])[i][\"geometry\"][\"coordinates\"][1])\n",
    "    power=data5[\"features\"][i][\"properties\"][\"powercode_de\"]\n",
    "    type=5\n",
    "\n",
    "    cur.execute(f\"INSERT INTO antenna_locations (radiated_power,geom,type) VALUES('{power}','{coordinate}','{type}');\")\n",
    "\n",
    "conn.commit()\n",
    "conn.close()"
   ]
  },
  {
   "cell_type": "code",
   "execution_count": null,
   "metadata": {},
   "outputs": [],
   "source": []
  }
 ],
 "metadata": {
  "kernelspec": {
   "display_name": "Python 3 (ipykernel)",
   "language": "python",
   "name": "python3"
  },
  "language_info": {
   "codemirror_mode": {
    "name": "ipython",
    "version": 3
   },
   "file_extension": ".py",
   "mimetype": "text/x-python",
   "name": "python",
   "nbconvert_exporter": "python",
   "pygments_lexer": "ipython3",
   "version": "3.8.12"
  }
 },
 "nbformat": 4,
 "nbformat_minor": 4
}
